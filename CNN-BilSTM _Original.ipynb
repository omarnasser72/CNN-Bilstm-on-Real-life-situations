{
 "cells": [
  {
   "cell_type": "code",
   "execution_count": 1,
   "metadata": {},
   "outputs": [],
   "source": [
    "import cv2\n",
    "import os\n",
    "import tensorflow as tf\n",
    "import tensorboard\n",
    "import keras\n",
    "from tqdm import tqdm\n",
    "import numpy as np\n",
    "from random import shuffle\n",
    "import time \n",
    "import matplotlib.pyplot as pyplot\n",
    "from sklearn.model_selection import train_test_split\n",
    "from PIL import Image"
   ]
  },
  {
   "cell_type": "code",
   "execution_count": 2,
   "metadata": {},
   "outputs": [],
   "source": [
    "OUTPUT_PATH = './Dataframes/'\n",
    "IMG_SIZE = 100\n",
    "\n",
    "def extract_frames(folder):\n",
    "    c = 0\n",
    "    for folders in os.listdir(folder):\n",
    "        print(folders)\n",
    "        folder_path = os.path.join(folder, folders)     #\"fights/NonViolence/\"\n",
    "        for files in tqdm(os.listdir(folder_path)):           \n",
    "            path = os.path.join(folder_path, files)     #\"fights/NonViolence/NV_1.mp4\"\n",
    "            cap = cv2.VideoCapture(path)\n",
    "            success = True\n",
    "\n",
    "            while success:\n",
    "                success, image = cap.read()\n",
    "                if not success:\n",
    "                    break\n",
    "\n",
    "                cv2.imwrite(OUTPUT_PATH + str(c)+ '.jpg', image)\n",
    "                c += 1\n",
    "        print(c)\n",
    "        print('DONE: '+ folders)"
   ]
  },
  {
   "cell_type": "code",
   "execution_count": 8,
   "metadata": {},
   "outputs": [
    {
     "name": "stdout",
     "output_type": "stream",
     "text": [
      ".ipynb_checkpoints\n"
     ]
    },
    {
     "name": "stderr",
     "output_type": "stream",
     "text": [
      "0it [00:00, ?it/s]\n"
     ]
    },
    {
     "name": "stdout",
     "output_type": "stream",
     "text": [
      "0\n",
      "DONE: .ipynb_checkpoints\n",
      "NonViolence\n"
     ]
    },
    {
     "name": "stderr",
     "output_type": "stream",
     "text": [
      "100%|██████████| 1000/1000 [39:41<00:00,  2.38s/it] \n"
     ]
    },
    {
     "name": "stdout",
     "output_type": "stream",
     "text": [
      "127587\n",
      "DONE: NonViolence\n",
      "Violence\n"
     ]
    },
    {
     "name": "stderr",
     "output_type": "stream",
     "text": [
      "100%|██████████| 1000/1000 [1:09:57<00:00,  4.20s/it]  "
     ]
    },
    {
     "name": "stdout",
     "output_type": "stream",
     "text": [
      "287369\n",
      "DONE: Violence\n"
     ]
    },
    {
     "name": "stderr",
     "output_type": "stream",
     "text": [
      "\n"
     ]
    }
   ],
   "source": [
    "extract_frames('./fights/')"
   ]
  },
  {
   "cell_type": "code",
   "execution_count": 5,
   "metadata": {},
   "outputs": [],
   "source": [
    "# NonViolence\n",
    "# 127587\n",
    "# DONE: NonViolence\n",
    "# Violence\n",
    "# 287369\n",
    "# DONE: Violence"
   ]
  },
  {
   "cell_type": "code",
   "execution_count": 13,
   "metadata": {},
   "outputs": [],
   "source": [
    "#OPTIM = 'SGD'\n",
    "LR = 0.01\n",
    "decay = 1e-6\n",
    "EPOCHS = 25\n",
    "BATCH_SIZE = 5\n",
    "LOSS = 'categorical_crossentropy'\n",
    "NUM_FRAMES = 10\n",
    "IMG_SIZE = 100"
   ]
  },
  {
   "cell_type": "code",
   "execution_count": 3,
   "metadata": {},
   "outputs": [
    {
     "name": "stderr",
     "output_type": "stream",
     "text": [
      "100%|█████████████████████████████████████████████████████████████████████████| 127587/127587 [12:15<00:00, 173.48it/s]\n",
      "100%|██████████████████████████████████████████████████████████████████████████| 159782/159782 [28:34<00:00, 93.17it/s]\n"
     ]
    }
   ],
   "source": [
    "NUM_FRAMES = 10\n",
    "dataset2 =[]\n",
    "images = []\n",
    "dir = \"./Dataframes/\"\n",
    "categories = [\"NonViolence\", \"Violence\"]\n",
    "limit = 0\n",
    "count = 0\n",
    "for category in categories:\n",
    "    path = os.path.join(dir, category)\n",
    "    for frames in tqdm(os.listdir(path)):\n",
    "        newPath = os.path.join(path, frames)\n",
    "        img = cv2.imread(newPath)      \n",
    "        new_img = cv2.resize(img, (IMG_SIZE, IMG_SIZE))\n",
    "        # Normalize the image data\n",
    "        new_img = new_img / 255.0\n",
    "        images.append(np.array(new_img))\n",
    "        limit += 1\n",
    "        count += 1\n",
    "        if count == NUM_FRAMES:\n",
    "           count = 0\n",
    "           if limit < 127587 :\n",
    "               dataset2.append([images, np.array([1, 0])])\n",
    "           elif limit >= 127587 :\n",
    "               dataset2.append([images, np.array([0, 1])])\n",
    "           images = []\n",
    "\n",
    "shuffle(dataset2)"
   ]
  },
  {
   "cell_type": "code",
   "execution_count": 4,
   "metadata": {},
   "outputs": [],
   "source": [
    "import pickle\n",
    "pickle_out = open(\"dataset2.npy\", \"wb\")\n",
    "pickle.dump(dataset2, pickle_out)\n",
    "#pickle_out = open(\"y.pickle\", \"wb\")\n",
    "#pickle.dump(y, pickle_out)"
   ]
  },
  {
   "cell_type": "code",
   "execution_count": 1,
   "metadata": {
    "scrolled": true
   },
   "outputs": [
    {
     "name": "stderr",
     "output_type": "stream",
     "text": [
      "\n",
      "KeyboardInterrupt\n",
      "\n"
     ]
    }
   ],
   "source": [
    "data = np.load('dataset2.npy', allow_pickle = True)"
   ]
  },
  {
   "cell_type": "code",
   "execution_count": 2,
   "metadata": {
    "scrolled": true
   },
   "outputs": [
    {
     "name": "stderr",
     "output_type": "stream",
     "text": [
      "\n",
      "KeyboardInterrupt\n",
      "\n"
     ]
    }
   ],
   "source": [
    "train, test = train_test_split(data, train_size = 0.9, shuffle = True)"
   ]
  },
  {
   "cell_type": "code",
   "execution_count": null,
   "metadata": {},
   "outputs": [],
   "source": []
  },
  {
   "cell_type": "code",
   "execution_count": 6,
   "metadata": {},
   "outputs": [],
   "source": [
    "X = np.array([i[0] for i in train]).reshape(-1, 10, IMG_SIZE, IMG_SIZE, 3)\n",
    "Y = np.array([i[1] for i in train])\n",
    "x_valid = np.array([i[0] for i in test]).reshape(-1, 10, IMG_SIZE, IMG_SIZE, 3)\n",
    "y_valid = np.array([i[1] for i in test])"
   ]
  },
  {
   "cell_type": "code",
   "execution_count": 7,
   "metadata": {},
   "outputs": [
    {
     "name": "stdout",
     "output_type": "stream",
     "text": [
      "(25862, 2)\n",
      "(2874, 2)\n",
      "(25862, 10, 100, 100, 3)\n",
      "(2874, 10, 100, 100, 3)\n"
     ]
    }
   ],
   "source": [
    "print(Y.shape)\n",
    "print(y_valid.shape)\n",
    "print(X.shape)\n",
    "print(x_valid.shape)"
   ]
  },
  {
   "cell_type": "code",
   "execution_count": 8,
   "metadata": {
    "scrolled": true
   },
   "outputs": [
    {
     "name": "stdout",
     "output_type": "stream",
     "text": [
      "[0 1]\n"
     ]
    }
   ],
   "source": [
    "print(y_valid[7])"
   ]
  },
  {
   "cell_type": "code",
   "execution_count": 15,
   "metadata": {
    "scrolled": true
   },
   "outputs": [
    {
     "name": "stdout",
     "output_type": "stream",
     "text": [
      "[array([[253, 253, 255, ..., 248, 252,   1],\n",
      "       [190, 178, 152, ...,  63,  65,   3],\n",
      "       [189, 175, 138, ...,  75,  68,   2],\n",
      "       ...,\n",
      "       [  4,   8,  12, ...,  11,  15,   3],\n",
      "       [  0,   1,   2, ...,  13,  16,   3],\n",
      "       [122, 126, 125, ..., 133, 126,   5]], dtype=uint8), 1]\n"
     ]
    }
   ],
   "source": [
    "print(dataset[0])"
   ]
  },
  {
   "cell_type": "code",
   "execution_count": 14,
   "metadata": {},
   "outputs": [
    {
     "name": "stdout",
     "output_type": "stream",
     "text": [
      "Model: \"sequential_1\"\n",
      "_________________________________________________________________\n",
      " Layer (type)                Output Shape              Param #   \n",
      "=================================================================\n",
      " conv2d_4 (Conv2D)           (None, 10, 100, 100, 64)  1792      \n",
      "                                                                 \n",
      " conv2d_5 (Conv2D)           (None, 10, 98, 98, 64)    36928     \n",
      "                                                                 \n",
      " max_pooling3d_3 (MaxPooling  (None, 10, 49, 49, 64)   0         \n",
      " 3D)                                                             \n",
      "                                                                 \n",
      " conv2d_6 (Conv2D)           (None, 10, 47, 47, 64)    36928     \n",
      "                                                                 \n",
      " max_pooling3d_4 (MaxPooling  (None, 10, 23, 23, 64)   0         \n",
      " 3D)                                                             \n",
      "                                                                 \n",
      " conv2d_7 (Conv2D)           (None, 10, 21, 21, 64)    36928     \n",
      "                                                                 \n",
      " max_pooling3d_5 (MaxPooling  (None, 10, 10, 10, 64)   0         \n",
      " 3D)                                                             \n",
      "                                                                 \n",
      " reshape_1 (Reshape)         (None, 10, 6400)          0         \n",
      "                                                                 \n",
      " bidirectional_1 (Bidirectio  (None, 64)               1646848   \n",
      " nal)                                                            \n",
      "                                                                 \n",
      " dense_3 (Dense)             (None, 64)                4160      \n",
      "                                                                 \n",
      " dense_4 (Dense)             (None, 32)                2080      \n",
      "                                                                 \n",
      " dense_5 (Dense)             (None, 2)                 66        \n",
      "                                                                 \n",
      "=================================================================\n",
      "Total params: 1,765,730\n",
      "Trainable params: 1,765,730\n",
      "Non-trainable params: 0\n",
      "_________________________________________________________________\n"
     ]
    }
   ],
   "source": [
    "##MODEL CREATION\n",
    "from tensorflow.keras.layers import (LSTM, Bidirectional, Conv2D, Dense, Flatten, MaxPooling2D, TimeDistributed, \n",
    "Reshape, MaxPooling3D)\n",
    "from tensorflow.keras.models import Sequential\n",
    "\n",
    "model = Sequential()\n",
    "model.add(Conv2D(64, (3, 3), activation='relu', input_shape=(10, IMG_SIZE, IMG_SIZE, 3), padding='same'))\n",
    "model.add(Conv2D(64, (3,3), activation='relu'))\n",
    "model.add(MaxPooling3D((1, 2, 2)))\n",
    "model.add(Conv2D(64, (3,3), activation='relu'))\n",
    "model.add(MaxPooling3D((1, 2, 2)))\n",
    "model.add(Conv2D(64, (3,3), activation='relu'))\n",
    "model.add(MaxPooling3D((1, 2, 2)))\n",
    "#model.add(Reshape((10,6400)))\n",
    "model.flatten()\n",
    "#BiLSTM layer\n",
    "lstm_fw = LSTM(units= 32)\n",
    "lstm_bw = LSTM(units= 32, go_backwards = True)\n",
    "model.add(Bidirectional(lstm_fw, backward_layer= lstm_bw))\n",
    "\n",
    "#Dense layer\n",
    "model.add(Dense(64, activation='relu'))\n",
    "model.add(Dense(32, activation='relu'))\n",
    "model.add(Dense(2, activation='sigmoid'))\n",
    "\n",
    "model.summary()"
   ]
  },
  {
   "cell_type": "code",
   "execution_count": 15,
   "metadata": {},
   "outputs": [],
   "source": [
    "opt = keras.optimizers.Adam(learning_rate=LR)\n",
    "model.compile(loss=LOSS, optimizer= opt, metrics=['accuracy'])\n",
    "#Name = 'CNN-BilSTM{}'.format(int(time.time()))\n",
    "\n",
    "#tensorboard = TensorBoard(log_dir='logs/{}'.format(NAME))"
   ]
  },
  {
   "cell_type": "code",
   "execution_count": 11,
   "metadata": {
    "scrolled": true
   },
   "outputs": [
    {
     "name": "stdout",
     "output_type": "stream",
     "text": [
      "Epoch 1/10\n",
      "1617/1617 [==============================] - 10743s 7s/step - loss: 0.6858 - accuracy: 0.5521 - val_loss: 0.6854 - val_accuracy: 0.5598\n",
      "Epoch 2/10\n",
      "1617/1617 [==============================] - 14044s 9s/step - loss: 0.6865 - accuracy: 0.5539 - val_loss: 0.6908 - val_accuracy: 0.5605\n",
      "Epoch 3/10\n",
      "1617/1617 [==============================] - 11165s 7s/step - loss: 0.6866 - accuracy: 0.5553 - val_loss: 0.6890 - val_accuracy: 0.5609\n",
      "Epoch 4/10\n",
      "1617/1617 [==============================] - 11911s 7s/step - loss: 0.6881 - accuracy: 0.5548 - val_loss: 0.6853 - val_accuracy: 0.5605\n",
      "Epoch 5/10\n",
      "1617/1617 [==============================] - 11235s 7s/step - loss: 0.6862 - accuracy: 0.5537 - val_loss: 0.6879 - val_accuracy: 0.5609\n",
      "Epoch 6/10\n",
      "1617/1617 [==============================] - 11016s 7s/step - loss: 0.6876 - accuracy: 0.5570 - val_loss: 0.6871 - val_accuracy: 0.5633\n",
      "Epoch 7/10\n",
      "1617/1617 [==============================] - 10708s 7s/step - loss: 0.6871 - accuracy: 0.5549 - val_loss: 0.6854 - val_accuracy: 0.5612\n",
      "Epoch 8/10\n",
      "1617/1617 [==============================] - 10743s 7s/step - loss: 0.6865 - accuracy: 0.5580 - val_loss: 0.6855 - val_accuracy: 0.5602\n",
      "Epoch 9/10\n",
      "1617/1617 [==============================] - 10867s 7s/step - loss: 0.6862 - accuracy: 0.5578 - val_loss: 0.6837 - val_accuracy: 0.5598\n",
      "Epoch 10/10\n",
      "1617/1617 [==============================] - 13655s 8s/step - loss: 0.6860 - accuracy: 0.5586 - val_loss: 0.6852 - val_accuracy: 0.5623\n"
     ]
    },
    {
     "data": {
      "text/plain": [
       "<keras.callbacks.History at 0x1dc15e39070>"
      ]
     },
     "execution_count": 11,
     "metadata": {},
     "output_type": "execute_result"
    }
   ],
   "source": [
    "model.fit(X,Y,epochs=10,validation_data=(x_valid,y_valid),batch_size=16, verbose=1)"
   ]
  },
  {
   "cell_type": "code",
   "execution_count": 16,
   "metadata": {
    "scrolled": true
   },
   "outputs": [
    {
     "name": "stdout",
     "output_type": "stream",
     "text": [
      "Epoch 1/25\n",
      "5173/5173 [==============================] - 4945s 955ms/step - loss: 0.6839 - accuracy: 0.5504 - val_loss: 0.6689 - val_accuracy: 0.5609\n",
      "Epoch 2/25\n",
      "5173/5173 [==============================] - 4248s 821ms/step - loss: 0.6697 - accuracy: 0.5682 - val_loss: 0.6621 - val_accuracy: 0.5901\n",
      "Epoch 3/25\n",
      "5173/5173 [==============================] - 4212s 814ms/step - loss: 0.6646 - accuracy: 0.5912 - val_loss: 0.6738 - val_accuracy: 0.5752\n",
      "Epoch 4/25\n",
      "5173/5173 [==============================] - 4207s 813ms/step - loss: 0.6650 - accuracy: 0.5908 - val_loss: 0.6604 - val_accuracy: 0.5821\n",
      "Epoch 5/25\n",
      "5173/5173 [==============================] - 4181s 808ms/step - loss: 0.6631 - accuracy: 0.5932 - val_loss: 0.6614 - val_accuracy: 0.5807\n",
      "Epoch 6/25\n",
      "5173/5173 [==============================] - 4170s 806ms/step - loss: 0.6626 - accuracy: 0.5913 - val_loss: 0.6637 - val_accuracy: 0.5905\n",
      "Epoch 7/25\n",
      "5173/5173 [==============================] - 4180s 808ms/step - loss: 0.6632 - accuracy: 0.5914 - val_loss: 0.6631 - val_accuracy: 0.5814\n",
      "Epoch 8/25\n",
      "5173/5173 [==============================] - 4206s 813ms/step - loss: 0.6622 - accuracy: 0.5924 - val_loss: 0.6641 - val_accuracy: 0.5870\n",
      "Epoch 9/25\n",
      "5173/5173 [==============================] - 4148s 802ms/step - loss: 0.6606 - accuracy: 0.5956 - val_loss: 0.6651 - val_accuracy: 0.5832\n",
      "Epoch 10/25\n",
      "5173/5173 [==============================] - 4144s 801ms/step - loss: 0.6599 - accuracy: 0.5981 - val_loss: 0.6602 - val_accuracy: 0.5821\n",
      "Epoch 11/25\n",
      "5173/5173 [==============================] - 4156s 803ms/step - loss: 0.6602 - accuracy: 0.5972 - val_loss: 0.6780 - val_accuracy: 0.5605\n",
      "Epoch 12/25\n",
      "5173/5173 [==============================] - 4146s 802ms/step - loss: 0.6599 - accuracy: 0.5962 - val_loss: 0.6546 - val_accuracy: 0.5926\n",
      "Epoch 13/25\n",
      "5173/5173 [==============================] - 4416s 854ms/step - loss: 0.6586 - accuracy: 0.5967 - val_loss: 0.6574 - val_accuracy: 0.5870\n",
      "Epoch 14/25\n",
      "5173/5173 [==============================] - 4209s 814ms/step - loss: 0.6580 - accuracy: 0.5991 - val_loss: 0.6562 - val_accuracy: 0.5967\n",
      "Epoch 15/25\n",
      "5173/5173 [==============================] - 4148s 802ms/step - loss: 0.6574 - accuracy: 0.6013 - val_loss: 0.6641 - val_accuracy: 0.5995\n",
      "Epoch 16/25\n",
      "5173/5173 [==============================] - 4173s 807ms/step - loss: 0.6570 - accuracy: 0.6028 - val_loss: 0.6636 - val_accuracy: 0.5908\n",
      "Epoch 17/25\n",
      "5173/5173 [==============================] - 4160s 804ms/step - loss: 0.6558 - accuracy: 0.6049 - val_loss: 0.6630 - val_accuracy: 0.5957\n",
      "Epoch 18/25\n",
      "5173/5173 [==============================] - 4153s 803ms/step - loss: 0.6552 - accuracy: 0.6017 - val_loss: 0.6529 - val_accuracy: 0.5992\n",
      "Epoch 19/25\n",
      "5173/5173 [==============================] - 4165s 805ms/step - loss: 0.6556 - accuracy: 0.6055 - val_loss: 0.6574 - val_accuracy: 0.5922\n",
      "Epoch 20/25\n",
      "5173/5173 [==============================] - 4169s 806ms/step - loss: 0.6553 - accuracy: 0.6073 - val_loss: 0.6503 - val_accuracy: 0.6103\n",
      "Epoch 21/25\n",
      "5173/5173 [==============================] - 4170s 806ms/step - loss: 0.6559 - accuracy: 0.6036 - val_loss: 0.6652 - val_accuracy: 0.5992\n",
      "Epoch 22/25\n",
      "5173/5173 [==============================] - 4184s 809ms/step - loss: 0.6562 - accuracy: 0.6029 - val_loss: 0.6530 - val_accuracy: 0.6030\n",
      "Epoch 23/25\n",
      "5173/5173 [==============================] - 4146s 801ms/step - loss: 0.6550 - accuracy: 0.6026 - val_loss: 0.6550 - val_accuracy: 0.6065\n",
      "Epoch 24/25\n",
      "5173/5173 [==============================] - 4172s 806ms/step - loss: 0.6555 - accuracy: 0.6053 - val_loss: 0.6560 - val_accuracy: 0.5988\n",
      "Epoch 25/25\n",
      "5173/5173 [==============================] - 4178s 808ms/step - loss: 0.6565 - accuracy: 0.6031 - val_loss: 0.6511 - val_accuracy: 0.6079\n"
     ]
    },
    {
     "data": {
      "text/plain": [
       "<keras.callbacks.History at 0x2d225fd2050>"
      ]
     },
     "execution_count": 16,
     "metadata": {},
     "output_type": "execute_result"
    }
   ],
   "source": [
    "model.fit(X,Y,epochs=EPOCHS,validation_data=(x_valid,y_valid),batch_size=BATCH_SIZE, verbose=1) #, callbacks=[tensorboard])"
   ]
  },
  {
   "cell_type": "code",
   "execution_count": 29,
   "metadata": {},
   "outputs": [
    {
     "name": "stdout",
     "output_type": "stream",
     "text": [
      "90/90 [==============================] - 121s 1s/step\n"
     ]
    },
    {
     "data": {
      "image/png": "[encoded data removed]",
      "text/plain": [
       "<Figure size 800x800 with 2 Axes>"
      ]
     },
     "metadata": {},
     "output_type": "display_data"
    }
   ],
   "source": [
    "import seaborn as sns\n",
    "from sklearn.metrics import confusion_matrix\n",
    "# confusion matrix\n",
    "Y_pred = model.predict(x_valid)\n",
    "Y_pred_classes = np.argmax(Y_pred,axis = 1) \n",
    "Y_true = np.argmax(y_valid,axis = 1) \n",
    "\n",
    "# compute the confusion matrix\n",
    "confusion_mtx = confusion_matrix(Y_true, Y_pred_classes) \n",
    "# plot the confusion matrix\n",
    "f,ax = pyplot.subplots(figsize=(8, 8))\n",
    "sns.heatmap(confusion_mtx, annot=True, linewidths=0.01,cmap=\"Greens\",linecolor=\"gray\", fmt= '.1f',ax=ax)\n",
    "pyplot.xlabel(\"Predicted Label\")\n",
    "pyplot.ylabel(\"True Label\")\n",
    "pyplot.title(\"Confusion Matrix\")\n",
    "pyplot.show()"
   ]
  },
  {
   "cell_type": "code",
   "execution_count": 51,
   "metadata": {},
   "outputs": [
    {
     "name": "stdout",
     "output_type": "stream",
     "text": [
      "90/90 [==============================] - 124s 1s/step - loss: 0.6511 - accuracy: 0.6079\n"
     ]
    }
   ],
   "source": [
    "model_evaluation_history = model.evaluate(x_valid, y_valid)"
   ]
  },
  {
   "cell_type": "code",
   "execution_count": 61,
   "metadata": {},
   "outputs": [
    {
     "data": {
      "image/png": "[encoded data removed]",
      "text/plain": [
       "<Figure size 640x480 with 2 Axes>"
      ]
     },
     "metadata": {},
     "output_type": "display_data"
    }
   ],
   "source": [
    "import seaborn as sns \n",
    "from sklearn.metrics import confusion_matrix\n",
    "\n",
    "ax= pyplot.subplot()\n",
    "cm=confusion_matrix(labels_test_normal, labels_predict)\n",
    "\n",
    "ax.set_xlabel('Predicted labels');ax.set_ylabel('True labels'); \n",
    "ax.set_title('Confusion Matrix'); \n",
    "ax.xaxis.set_ticklabels(['NonViolence', 'Violence']); ax.yaxis.set_ticklabels(['NonViolence', 'Violence']);"
   ]
  },
  {
   "cell_type": "code",
   "execution_count": 62,
   "metadata": {},
   "outputs": [
    {
     "name": "stdout",
     "output_type": "stream",
     "text": [
      "Classification Report is : \n",
      "               precision    recall  f1-score   support\n",
      "\n",
      "           0       0.56      0.47      0.51      1262\n",
      "           1       0.63      0.71      0.67      1612\n",
      "\n",
      "    accuracy                           0.61      2874\n",
      "   macro avg       0.60      0.59      0.59      2874\n",
      "weighted avg       0.60      0.61      0.60      2874\n",
      "\n"
     ]
    }
   ],
   "source": [
    "from sklearn.metrics import classification_report\n",
    "\n",
    "ClassificationReport = classification_report(labels_test_normal,labels_predict)\n",
    "print('Classification Report is : \\n', ClassificationReport)"
   ]
  },
  {
   "cell_type": "code",
   "execution_count": null,
   "metadata": {},
   "outputs": [],
   "source": []
  }
 ],
 "metadata": {
  "kernelspec": {
   "display_name": "Python 3 (ipykernel)",
   "language": "python",
   "name": "python3"
  },
  "language_info": {
   "codemirror_mode": {
    "name": "ipython",
    "version": 3
   },
   "file_extension": ".py",
   "mimetype": "text/x-python",
   "name": "python",
   "nbconvert_exporter": "python",
   "pygments_lexer": "ipython3",
   "version": "3.9.16"
  }
 },
 "nbformat": 4,
 "nbformat_minor": 2
}
